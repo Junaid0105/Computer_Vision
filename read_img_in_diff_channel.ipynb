{
 "cells": [
  {
   "cell_type": "code",
   "execution_count": 3,
   "id": "652b2013-733f-4ea3-8367-b8630c734ddf",
   "metadata": {},
   "outputs": [],
   "source": [
    "import numpy as np\n",
    "import cv2\n",
    "import matplotlib as plt"
   ]
  },
  {
   "cell_type": "code",
   "execution_count": 9,
   "id": "6b9193d3-798b-47bb-8bf7-50324b93634e",
   "metadata": {},
   "outputs": [
    {
     "name": "stdout",
     "output_type": "stream",
     "text": [
      "(4928, 3264, 3)\n",
      "(300, 500, 3)\n"
     ]
    }
   ],
   "source": [
    "# default image channel as 1\n",
    "image = cv2.imread(\"images/img1.jpg\")\n",
    "print(image.shape)\n",
    "resize_img = cv2.resize(image,(500,300))\n",
    "print(resize_img.shape)\n",
    "cv2.imshow(\"image1\",resize_img)\n",
    "cv2.waitKey(0)\n",
    "cv2.destroyAllWindows()"
   ]
  },
  {
   "cell_type": "code",
   "execution_count": 10,
   "id": "4e606221-ec0b-42f4-87a9-061fddf16102",
   "metadata": {},
   "outputs": [
    {
     "name": "stdout",
     "output_type": "stream",
     "text": [
      "(4928, 3264)\n",
      "(300, 500)\n"
     ]
    }
   ],
   "source": [
    "# grayscale flag 0\n",
    "image = cv2.imread(\"images/img1.jpg\",0)\n",
    "print(image.shape)\n",
    "resize_img = cv2.resize(image,(500,300))\n",
    "print(resize_img.shape)\n",
    "cv2.imshow(\"image1\",resize_img)\n",
    "cv2.waitKey(0)\n",
    "cv2.destroyAllWindows()"
   ]
  },
  {
   "cell_type": "code",
   "execution_count": 13,
   "id": "47348c0b-d213-467e-a25c-b34a7146dc16",
   "metadata": {},
   "outputs": [
    {
     "name": "stdout",
     "output_type": "stream",
     "text": [
      "(4928, 3264, 3)\n",
      "(300, 500, 3)\n"
     ]
    }
   ],
   "source": [
    "# unchanged flag -1\n",
    "image = cv2.imread(\"images/img1.jpg\",-1)\n",
    "print(image.shape)\n",
    "resize_img = cv2.resize(image,(500,300))\n",
    "print(resize_img.shape)\n",
    "cv2.imshow(\"image1\",resize_img)\n",
    "cv2.waitKey(0)\n",
    "cv2.destroyAllWindows()"
   ]
  },
  {
   "cell_type": "code",
   "execution_count": null,
   "id": "25ddcafe-1312-418b-a420-c96282e292b5",
   "metadata": {},
   "outputs": [],
   "source": []
  }
 ],
 "metadata": {
  "kernelspec": {
   "display_name": "Python 3 (ipykernel)",
   "language": "python",
   "name": "python3"
  },
  "language_info": {
   "codemirror_mode": {
    "name": "ipython",
    "version": 3
   },
   "file_extension": ".py",
   "mimetype": "text/x-python",
   "name": "python",
   "nbconvert_exporter": "python",
   "pygments_lexer": "ipython3",
   "version": "3.12.1"
  },
  "widgets": {
   "application/vnd.jupyter.widget-state+json": {
    "state": {},
    "version_major": 2,
    "version_minor": 0
   }
  }
 },
 "nbformat": 4,
 "nbformat_minor": 5
}
