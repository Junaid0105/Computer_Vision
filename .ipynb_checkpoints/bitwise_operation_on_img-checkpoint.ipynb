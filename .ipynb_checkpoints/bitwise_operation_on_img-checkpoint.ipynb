{
 "cells": [
  {
   "cell_type": "code",
   "execution_count": 2,
   "id": "94ac03f4-ddd6-4864-909a-10cab42117d6",
   "metadata": {},
   "outputs": [],
   "source": [
    "import cv2\n",
    "import numpy as np"
   ]
  },
  {
   "cell_type": "code",
   "execution_count": 6,
   "id": "836e671e-7e01-48f3-9df9-266de676049a",
   "metadata": {},
   "outputs": [],
   "source": [
    "image1 = cv2.imread(\"images/img1.jpg\")\n",
    "image2 = cv2.imread(\"images/img2.jpg\")\n",
    "\n",
    "img1_resize = cv2.resize(image1, (300,400))\n",
    "img2_resize = cv2.resize(image2, (300,400))\n",
    "\n",
    "bitwise_image = cv2.bitwise_and(img1_resize,img2_resize)\n",
    "\n",
    "stack = np.hstack((img1_resize,img2_resize,bitwise_image))\n",
    "\n",
    "cv2.imshow(\"Operation\", stack)\n",
    "cv2.waitKey(0)\n",
    "cv2.destroyAllWindows()"
   ]
  },
  {
   "cell_type": "code",
   "execution_count": null,
   "id": "1bc3dfa9-9fb1-438f-9fb7-7e5753271c3f",
   "metadata": {},
   "outputs": [],
   "source": []
  }
 ],
 "metadata": {
  "kernelspec": {
   "display_name": "Python 3 (ipykernel)",
   "language": "python",
   "name": "python3"
  },
  "language_info": {
   "codemirror_mode": {
    "name": "ipython",
    "version": 3
   },
   "file_extension": ".py",
   "mimetype": "text/x-python",
   "name": "python",
   "nbconvert_exporter": "python",
   "pygments_lexer": "ipython3",
   "version": "3.13.5"
  },
  "widgets": {
   "application/vnd.jupyter.widget-state+json": {
    "state": {},
    "version_major": 2,
    "version_minor": 0
   }
  }
 },
 "nbformat": 4,
 "nbformat_minor": 5
}
