{
 "cells": [
  {
   "cell_type": "code",
   "execution_count": 1,
   "id": "3d3f0c2f-2767-473e-bb4c-6a534cc91751",
   "metadata": {},
   "outputs": [],
   "source": [
    "import cv2"
   ]
  },
  {
   "cell_type": "code",
   "execution_count": 7,
   "id": "1f1f1b64-3dd9-4ec5-8076-447efd142e24",
   "metadata": {},
   "outputs": [],
   "source": [
    "image = cv2.imread(\"images/img2.jpg\")\n",
    "img_resize = cv2.resize(image,(500,600))\n",
    "# add circle on the bird in images\n",
    "cv2.circle(img = img_resize, center = (240,210), radius = 80, color = (222,0,0), thickness = 4, lineType = 16)\n",
    "\n",
    "cv2.imshow(\"image\", img_resize)\n",
    "cv2.waitKey(0)\n",
    "cv2.destroyAllWindows()"
   ]
  },
  {
   "cell_type": "code",
   "execution_count": 37,
   "id": "b964b54d-6cf7-4863-9922-64245daec730",
   "metadata": {},
   "outputs": [],
   "source": [
    "image = cv2.imread(\"images/img2.jpg\")\n",
    "img_resize = cv2.resize(image,(500,600))\n",
    "\n",
    "cv2.putText(img = img_resize, text = \"Bird\", org = (280,430), fontFace = 2, fontScale = 2, \n",
    "            color = (234,0,0), thickness = 2, lineType = 16,bottomLeftOrigin = False)\n",
    "\n",
    "# add circle on the bird in images\n",
    "cv2.ellipse(img = img_resize, center = (250,290), axes = (150,60), angle = 85, startAngle = 0,\n",
    "            endAngle = 300, color = (244,0,0), thickness = 4, lineType = 16)\n",
    "\n",
    "cv2.imshow(\"image\", img_resize)\n",
    "cv2.waitKey(0)\n",
    "cv2.destroyAllWindows()"
   ]
  },
  {
   "cell_type": "code",
   "execution_count": null,
   "id": "5ca49d9a-9608-4aa2-bdae-cc74f19f6120",
   "metadata": {},
   "outputs": [],
   "source": []
  }
 ],
 "metadata": {
  "kernelspec": {
   "display_name": "Python 3 (ipykernel)",
   "language": "python",
   "name": "python3"
  },
  "language_info": {
   "codemirror_mode": {
    "name": "ipython",
    "version": 3
   },
   "file_extension": ".py",
   "mimetype": "text/x-python",
   "name": "python",
   "nbconvert_exporter": "python",
   "pygments_lexer": "ipython3",
   "version": "3.13.5"
  },
  "widgets": {
   "application/vnd.jupyter.widget-state+json": {
    "state": {},
    "version_major": 2,
    "version_minor": 0
   }
  }
 },
 "nbformat": 4,
 "nbformat_minor": 5
}
