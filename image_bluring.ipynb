{
 "cells": [
  {
   "cell_type": "code",
   "execution_count": 8,
   "id": "91a8f0d6-d010-4d03-91bd-b9222be4c87e",
   "metadata": {},
   "outputs": [],
   "source": [
    "import cv2\n",
    "import numpy as np"
   ]
  },
  {
   "cell_type": "code",
   "execution_count": 23,
   "id": "c786e811-d984-4546-bbc6-71d193c9c63b",
   "metadata": {},
   "outputs": [],
   "source": [
    "image = cv2.imread(\"images/img4.jpg\")\n",
    "\n",
    "img_resize = cv2.resize(image, (250,300))\n",
    "# Gaussian blur\n",
    "g_blur = cv2.GaussianBlur(img_resize, (5,5),0)\n",
    "\n",
    "#median blur\n",
    "median_blur = cv2.medianBlur(img_resize, 5)\n",
    "\n",
    "#bilateral blur\n",
    "bi_blur = cv2.bilateralFilter(img_resize,9,75,75)\n",
    "\n",
    "stack = np.hstack((img_resize, g_blur, median_blur, bi_blur))\n",
    "\n",
    "cv2.imshow(\"Image\",stack)\n",
    "cv2.waitKey(0)\n",
    "cv2.destroyAllWindows()"
   ]
  },
  {
   "cell_type": "code",
   "execution_count": null,
   "id": "e9b73193-517b-43b0-a528-1daff213481b",
   "metadata": {},
   "outputs": [],
   "source": []
  }
 ],
 "metadata": {
  "kernelspec": {
   "display_name": "Python 3 (ipykernel)",
   "language": "python",
   "name": "python3"
  },
  "language_info": {
   "codemirror_mode": {
    "name": "ipython",
    "version": 3
   },
   "file_extension": ".py",
   "mimetype": "text/x-python",
   "name": "python",
   "nbconvert_exporter": "python",
   "pygments_lexer": "ipython3",
   "version": "3.13.5"
  },
  "widgets": {
   "application/vnd.jupyter.widget-state+json": {
    "state": {},
    "version_major": 2,
    "version_minor": 0
   }
  }
 },
 "nbformat": 4,
 "nbformat_minor": 5
}
