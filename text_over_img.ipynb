{
 "cells": [
  {
   "cell_type": "code",
   "execution_count": 3,
   "id": "aea6b94b-398e-406e-b4bf-00f3bd957845",
   "metadata": {},
   "outputs": [],
   "source": [
    "import cv2\n",
    "import numpy\n"
   ]
  },
  {
   "cell_type": "code",
   "execution_count": 5,
   "id": "aa7f8dbd-5ada-4e87-9f12-60dde94c6d85",
   "metadata": {},
   "outputs": [],
   "source": [
    "img_get = cv2.imread(\"images/img3.jpg\")\n",
    "img_get_resize = cv2.resize(img_get,(500,600))\n",
    "\n",
    "text = cv2.putText()\n",
    "cv2.imshow(\"image\",img_get_resize)\n",
    "cv2.waitKey(0)\n",
    "cv2.destroyAllWindows()"
   ]
  },
  {
   "cell_type": "code",
   "execution_count": null,
   "id": "2f1b684a-67ae-4904-858a-df785cbe68a6",
   "metadata": {},
   "outputs": [],
   "source": []
  }
 ],
 "metadata": {
  "kernelspec": {
   "display_name": "Python 3 (ipykernel)",
   "language": "python",
   "name": "python3"
  },
  "language_info": {
   "codemirror_mode": {
    "name": "ipython",
    "version": 3
   },
   "file_extension": ".py",
   "mimetype": "text/x-python",
   "name": "python",
   "nbconvert_exporter": "python",
   "pygments_lexer": "ipython3",
   "version": "3.13.5"
  },
  "widgets": {
   "application/vnd.jupyter.widget-state+json": {
    "state": {},
    "version_major": 2,
    "version_minor": 0
   }
  }
 },
 "nbformat": 4,
 "nbformat_minor": 5
}
