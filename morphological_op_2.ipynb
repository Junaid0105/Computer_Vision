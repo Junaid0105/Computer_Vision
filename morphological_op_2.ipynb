{
 "cells": [
  {
   "cell_type": "code",
   "execution_count": 1,
   "id": "3900e9f4-2fb0-4edc-baf2-77527d46758c",
   "metadata": {},
   "outputs": [],
   "source": [
    "import cv2\n",
    "import numpy as np"
   ]
  },
  {
   "cell_type": "code",
   "execution_count": 3,
   "id": "a94d1a3f-b7f7-48c0-81d8-1643ca6c31a3",
   "metadata": {},
   "outputs": [],
   "source": [
    "image = cv2.imread(\"images/binary3.png\")\n",
    "\n",
    "image = cv2.resize(image, (400,400))\n",
    "\n",
    "# mask/kernel\n",
    "mask = np.ones((10,10), np.int8)\n",
    "\n",
    "#opening operation\n",
    "op = cv2.morphologyEx(image, cv2.MORPH_OPEN, mask, iterations = 1)\n",
    "\n",
    "\n",
    "\n",
    "cv2.imshow(\"original\", image)\n",
    "cv2.imshow(\"opening\", op)\n",
    "\n",
    "cv2.waitKey(0)\n",
    "cv2.destroyAllWindows()"
   ]
  },
  {
   "cell_type": "code",
   "execution_count": null,
   "id": "b5a5623b-7c2d-4dce-b21f-9db6d171b318",
   "metadata": {},
   "outputs": [],
   "source": [
    "image = cv2.imread(\"images/binary2.png\")\n",
    "\n",
    "image = cv2.resize(image, (400,400))\n",
    "\n",
    "# mask/kernel\n",
    "mask = np.ones((10,10), np.int8)\n",
    "\n",
    "#opening operation\n",
    "op = cv2.morphologyEx(image, cv2.MORPH_CLOSE, mask, iterations = 1)\n",
    "\n",
    "\n",
    "\n",
    "cv2.imshow(\"original\", image)\n",
    "cv2.imshow(\"opening\", op)\n",
    "\n",
    "cv2.waitKey(0)\n",
    "cv2.destroyAllWindows()"
   ]
  }
 ],
 "metadata": {
  "kernelspec": {
   "display_name": "Python 3 (ipykernel)",
   "language": "python",
   "name": "python3"
  },
  "language_info": {
   "codemirror_mode": {
    "name": "ipython",
    "version": 3
   },
   "file_extension": ".py",
   "mimetype": "text/x-python",
   "name": "python",
   "nbconvert_exporter": "python",
   "pygments_lexer": "ipython3",
   "version": "3.13.5"
  },
  "widgets": {
   "application/vnd.jupyter.widget-state+json": {
    "state": {},
    "version_major": 2,
    "version_minor": 0
   }
  }
 },
 "nbformat": 4,
 "nbformat_minor": 5
}
