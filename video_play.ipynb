{
 "cells": [
  {
   "cell_type": "code",
   "execution_count": 1,
   "id": "b8f8be04-ecab-400b-b05a-8e32d114d7a1",
   "metadata": {},
   "outputs": [],
   "source": [
    "import cv2\n"
   ]
  },
  {
   "cell_type": "code",
   "execution_count": 8,
   "id": "8db36aca-19df-4c8e-8566-d5f3598fe8f2",
   "metadata": {},
   "outputs": [],
   "source": [
    "video = cv2.VideoCapture(r\"‪F:\\movies\\Pictures\\DCIM\\vi_2015-06-17_18060120150617.mp4\")\n",
    "\n",
    "while video.isOpened():\n",
    "    r, frame = video.read()\n",
    "    if r == True:\n",
    "        frame = cv2.resize(frame,(400,300))\n",
    "        cv2.imshow(\"Vidia_frame\",frame)\n",
    "        if cv2.waitKey(0) & 0xff == ord(\"p\"):\n",
    "            break\n",
    "    else:\n",
    "        break\n",
    "video.release()\n",
    "cv2.destroyAllWindows()"
   ]
  },
  {
   "cell_type": "code",
   "execution_count": 7,
   "id": "a559a792-a0f9-4741-9339-faf183c50166",
   "metadata": {},
   "outputs": [],
   "source": [
    "import cv2\n",
    "\n",
    "video_path = \"C:\\\\Users\\\\hp\\\\Downloads\\\\Wildlife.wmv\"\n",
    "video = cv2.VideoCapture(video_path)\n",
    "\n",
    "if not video.isOpened():\n",
    "    print(\"Error: Could not open video file.\")\n",
    "    exit()\n"
   ]
  },
  {
   "cell_type": "code",
   "execution_count": null,
   "id": "bb1b3088-d14f-4add-a8d6-2520ad6dd525",
   "metadata": {},
   "outputs": [],
   "source": [
    "import cv2\n",
    "\n",
    "video = cv2.VideoCapture(\"F:\\\\movies\\\\Pictures\\\\DCIM\\\\vi_2015-06-17_1806012015061\")\n",
    "\n",
    "if not video.isOpened():\n",
    "    print(\"Error: Could not open video.\")\n",
    "    exit()\n",
    "\n",
    "while True:\n",
    "    r, frame = video.read()\n",
    "    if not r:\n",
    "        break\n",
    "    frame = cv2.resize(frame, (400, 300))\n",
    "    cv2.imshow(\"Video_frame\", frame)\n",
    "    if cv2.waitKey(0) & 0xFF == ord(\"p\"):\n",
    "        cv2.destroyAllWindows()\n",
    "        break\n",
    "\n",
    "video.release()\n",
    "cv2.destroyAllWindows()\n"
   ]
  },
  {
   "cell_type": "code",
   "execution_count": null,
   "id": "64151a22-e92f-40ef-a7b0-a44d8205f771",
   "metadata": {},
   "outputs": [],
   "source": []
  }
 ],
 "metadata": {
  "kernelspec": {
   "display_name": "Python 3 (ipykernel)",
   "language": "python",
   "name": "python3"
  },
  "language_info": {
   "codemirror_mode": {
    "name": "ipython",
    "version": 3
   },
   "file_extension": ".py",
   "mimetype": "text/x-python",
   "name": "python",
   "nbconvert_exporter": "python",
   "pygments_lexer": "ipython3",
   "version": "3.13.5"
  },
  "widgets": {
   "application/vnd.jupyter.widget-state+json": {
    "state": {},
    "version_major": 2,
    "version_minor": 0
   }
  }
 },
 "nbformat": 4,
 "nbformat_minor": 5
}
