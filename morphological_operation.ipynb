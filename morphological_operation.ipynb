{
 "cells": [
  {
   "cell_type": "code",
   "execution_count": 4,
   "id": "98680c98-a4d1-4b04-9b10-77a525996a3b",
   "metadata": {},
   "outputs": [],
   "source": [
    "import cv2\n",
    "import numpy as np"
   ]
  },
  {
   "cell_type": "code",
   "execution_count": 16,
   "id": "b977afec-222f-45bb-af0e-4b752e51d709",
   "metadata": {},
   "outputs": [],
   "source": [
    "image = cv2.imread(\"images/binary1.png\")\n",
    "\n",
    "image = cv2.resize(image, (400,400))\n",
    "\n",
    "# mask/kernel\n",
    "mask = np.ones((5,5), np.int8)\n",
    "\n",
    "#erosion operation\n",
    "er = cv2.erode(image, mask, iterations = 2)\n",
    "\n",
    "#dilation\n",
    "di = cv2.dilate(image, mask, iterations = 2)\n",
    "\n",
    "cv2.imshow(\"original\", image)\n",
    "cv2.imshow(\"erosion\", er)\n",
    "cv2.imshow(\"dilation\", di)\n",
    "cv2.waitKey(0)\n",
    "cv2.destroyAllWindows()"
   ]
  },
  {
   "cell_type": "code",
   "execution_count": null,
   "id": "8b409b47-bca9-4e29-b906-0ab467647cd6",
   "metadata": {},
   "outputs": [],
   "source": []
  }
 ],
 "metadata": {
  "kernelspec": {
   "display_name": "Python 3 (ipykernel)",
   "language": "python",
   "name": "python3"
  },
  "language_info": {
   "codemirror_mode": {
    "name": "ipython",
    "version": 3
   },
   "file_extension": ".py",
   "mimetype": "text/x-python",
   "name": "python",
   "nbconvert_exporter": "python",
   "pygments_lexer": "ipython3",
   "version": "3.13.5"
  },
  "widgets": {
   "application/vnd.jupyter.widget-state+json": {
    "state": {},
    "version_major": 2,
    "version_minor": 0
   }
  }
 },
 "nbformat": 4,
 "nbformat_minor": 5
}
