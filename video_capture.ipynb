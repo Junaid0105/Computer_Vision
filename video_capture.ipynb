{
 "cells": [
  {
   "cell_type": "code",
   "execution_count": 1,
   "id": "b96cc037-4a77-4861-8bfe-812e9e9766ba",
   "metadata": {},
   "outputs": [],
   "source": [
    "import cv2"
   ]
  },
  {
   "cell_type": "code",
   "execution_count": 3,
   "id": "b39c3037-712f-4a97-ac1c-8618ad5dc701",
   "metadata": {},
   "outputs": [],
   "source": [
    "#open the default camera (index 0)\n",
    "capture_vid = cv2.VideoCapture(0)\n",
    "\n",
    "while True:\n",
    "    r, frame = capture_vid.read()\n",
    "    if r==True :\n",
    "        frame = cv2.resize(frame, (500,500))\n",
    "        cv2.imshow(\"Video\", frame)\n",
    "        \n",
    "        #press p for break \n",
    "        if cv2.waitKey(1) & 0xff == ord(\"p\"):\n",
    "            break\n",
    "    else:\n",
    "        break\n",
    "capture_vid.release()\n",
    "cv2.destroyAllWindows()\n",
    "        \n",
    "    "
   ]
  },
  {
   "cell_type": "code",
   "execution_count": null,
   "id": "79b9d14c-d1ec-4327-a197-91ae1c30696f",
   "metadata": {},
   "outputs": [],
   "source": []
  }
 ],
 "metadata": {
  "kernelspec": {
   "display_name": "Python 3 (ipykernel)",
   "language": "python",
   "name": "python3"
  },
  "language_info": {
   "codemirror_mode": {
    "name": "ipython",
    "version": 3
   },
   "file_extension": ".py",
   "mimetype": "text/x-python",
   "name": "python",
   "nbconvert_exporter": "python",
   "pygments_lexer": "ipython3",
   "version": "3.13.5"
  },
  "widgets": {
   "application/vnd.jupyter.widget-state+json": {
    "state": {},
    "version_major": 2,
    "version_minor": 0
   }
  }
 },
 "nbformat": 4,
 "nbformat_minor": 5
}
