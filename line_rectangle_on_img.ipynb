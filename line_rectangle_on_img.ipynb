{
 "cells": [
  {
   "cell_type": "code",
   "execution_count": 2,
   "id": "b97af815-5ceb-4617-b7d8-77c799d94c2e",
   "metadata": {},
   "outputs": [],
   "source": [
    "import cv2"
   ]
  },
  {
   "cell_type": "code",
   "execution_count": 22,
   "id": "b129bd6e-de07-4aa2-b3ff-fc404f4df740",
   "metadata": {},
   "outputs": [],
   "source": [
    "\n",
    "img_get = cv2.imread(\"images/img3.jpg\")\n",
    "\n",
    "img_get = cv2.imread(\"images/img2.jpg\")\n",
    "if img_get is None:\n",
    "    print(\"Error: Image not found or failed to load.\")\n",
    "    exit()\n",
    "img_get_resize = cv2.resize(img_get,(500,600))\n",
    "# Line on the image\n",
    "cv2.line(img = img_get_resize, pt1 = (150,150), pt2 = (380,150), color = (0,0,220), thickness  = 4, lineType = 4)\n",
    "\n",
    "\n",
    "cv2.imshow(\"image\",img_get_resize)\n",
    "cv2.waitKey(0)\n",
    "cv2.destroyAllWindows()"
   ]
  },
  {
   "cell_type": "code",
   "execution_count": null,
   "id": "642a3d17-1ed0-4bae-ba80-84f665c1d9ef",
   "metadata": {},
   "outputs": [],
   "source": [
    "img_get = cv2.imread(\"images/img3.jpg\")\n",
    "\n",
    "img_get = cv2.imread(\"images/img2.jpg\")\n",
    "if img_get is None:\n",
    "    print(\"Error: Image not found or failed to load.\")\n",
    "    exit()\n",
    "img_get_resize = cv2.resize(img_get,(500,600))\n",
    "# Line on the image\n",
    "cv2.rectangle(\n",
    "    img = img_get_resize, pt1 = (200,150), pt2 = (300,400), color = (0,0,220), thickness  = 4, lineType = 16\n",
    ")\n",
    "cv2.rectangle(\n",
    "    img = img_get_resize, pt1 = (315,200), pt2 = (450,450), color = (0,0,220), thickness  = 4, lineType = 16\n",
    ")\n",
    "\n",
    "\n",
    "cv2.imshow(\"image\",img_get_resize)\n",
    "cv2.waitKey(0)\n",
    "cv2.destroyAllWindows()"
   ]
  },
  {
   "cell_type": "code",
   "execution_count": null,
   "id": "53af773f-080c-442b-8055-7fe48def46f2",
   "metadata": {},
   "outputs": [],
   "source": []
  }
 ],
 "metadata": {
  "kernelspec": {
   "display_name": "Python 3 (ipykernel)",
   "language": "python",
   "name": "python3"
  },
  "language_info": {
   "codemirror_mode": {
    "name": "ipython",
    "version": 3
   },
   "file_extension": ".py",
   "mimetype": "text/x-python",
   "name": "python",
   "nbconvert_exporter": "python",
   "pygments_lexer": "ipython3",
   "version": "3.13.5"
  },
  "widgets": {
   "application/vnd.jupyter.widget-state+json": {
    "state": {},
    "version_major": 2,
    "version_minor": 0
   }
  }
 },
 "nbformat": 4,
 "nbformat_minor": 5
}
