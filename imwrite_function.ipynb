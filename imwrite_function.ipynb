{
 "cells": [
  {
   "cell_type": "code",
   "execution_count": 2,
   "id": "1d822c89-7844-4f3e-bfa6-a276c99be519",
   "metadata": {},
   "outputs": [],
   "source": [
    "import cv2\n",
    "import numpy as np"
   ]
  },
  {
   "cell_type": "code",
   "execution_count": 3,
   "id": "a91680bc-b6fe-4ded-868e-4b75c81f2fd9",
   "metadata": {},
   "outputs": [],
   "source": [
    "image = cv2.imread(\"images/img2.jpg\")\n",
    "\n",
    "img_resize = cv2.resize(image, (300,300))\n",
    "\n",
    "h_merge = np.hstack((img_resize, img_resize))\n",
    "v_merge = np.vstack((h_merge,h_merge))\n",
    "\n",
    "cv2.imwrite()\n",
    "\n",
    "cv2.imshow(\"Image\", v_merge)\n",
    "cv2.waitKey(0)\n",
    "cv2.destroyAllWindows()"
   ]
  },
  {
   "cell_type": "code",
   "execution_count": null,
   "id": "9309d1b7-e379-44ec-b1c4-ba918d48049d",
   "metadata": {},
   "outputs": [],
   "source": []
  }
 ],
 "metadata": {
  "kernelspec": {
   "display_name": "Python 3 (ipykernel)",
   "language": "python",
   "name": "python3"
  },
  "language_info": {
   "codemirror_mode": {
    "name": "ipython",
    "version": 3
   },
   "file_extension": ".py",
   "mimetype": "text/x-python",
   "name": "python",
   "nbconvert_exporter": "python",
   "pygments_lexer": "ipython3",
   "version": "3.13.5"
  },
  "widgets": {
   "application/vnd.jupyter.widget-state+json": {
    "state": {},
    "version_major": 2,
    "version_minor": 0
   }
  }
 },
 "nbformat": 4,
 "nbformat_minor": 5
}
