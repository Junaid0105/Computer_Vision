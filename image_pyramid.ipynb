{
 "cells": [
  {
   "cell_type": "code",
   "execution_count": 1,
   "id": "ac1a719c-0572-440f-b071-dba54b3ac292",
   "metadata": {},
   "outputs": [],
   "source": [
    "import cv2"
   ]
  },
  {
   "cell_type": "code",
   "execution_count": 4,
   "id": "aa02bad7-6083-4679-a558-e532e97cc8ac",
   "metadata": {},
   "outputs": [
    {
     "name": "stdout",
     "output_type": "stream",
     "text": [
      "(2544, 3849, 3)\n",
      "(1272, 1925, 3)\n",
      "(636, 963, 3)\n"
     ]
    }
   ],
   "source": [
    "image = cv2.imread(\"images/img2.jpg\")\n",
    "print(image.shape)\n",
    "img_py = cv2.pyrDown(image)\n",
    "print(img_py.shape)\n",
    "\n",
    "img_py1 = cv2.pyrDown(img_py)\n",
    "print(img_py1.shape)\n",
    "\n",
    "img_py = cv2.pyrDown(img_py)\n",
    "print(img_py1.shape)\n",
    "\n",
    "cv2.imshow(\"img\", img_py)\n",
    "cv2.imshow(\"img1\", img_py1)\n",
    "cv2.waitKey(0)\n",
    "cv2.destroyAllWindows()"
   ]
  },
  {
   "cell_type": "code",
   "execution_count": null,
   "id": "e523ef41-c9d3-43f4-bb6c-45ee513eb9b8",
   "metadata": {},
   "outputs": [],
   "source": []
  }
 ],
 "metadata": {
  "kernelspec": {
   "display_name": "Python 3 (ipykernel)",
   "language": "python",
   "name": "python3"
  },
  "language_info": {
   "codemirror_mode": {
    "name": "ipython",
    "version": 3
   },
   "file_extension": ".py",
   "mimetype": "text/x-python",
   "name": "python",
   "nbconvert_exporter": "python",
   "pygments_lexer": "ipython3",
   "version": "3.13.5"
  },
  "widgets": {
   "application/vnd.jupyter.widget-state+json": {
    "state": {},
    "version_major": 2,
    "version_minor": 0
   }
  }
 },
 "nbformat": 4,
 "nbformat_minor": 5
}
