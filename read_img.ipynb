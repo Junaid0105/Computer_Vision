{
 "cells": [
  {
   "cell_type": "code",
   "execution_count": 8,
   "id": "582612ba-4079-42ac-a454-edb10fc51e1c",
   "metadata": {},
   "outputs": [],
   "source": [
    "import os\n",
    "import cv2\n",
    "\n",
    "import numpy as np"
   ]
  },
  {
   "cell_type": "code",
   "execution_count": 2,
   "id": "d893d8cd-24dd-43cf-9c7c-53e6f903de64",
   "metadata": {},
   "outputs": [],
   "source": [
    "#image read\n",
    "img = cv2.imread(\"images/img6.jpg\",0)\n",
    "resize_img = cv2.resize(img, (1350,680))\n",
    "cv2.imshow(\"first_img\",resize_img)\n",
    "cv2.waitKey(0)\n",
    "cv2.destroyAllWindows()"
   ]
  },
  {
   "cell_type": "code",
   "execution_count": 7,
   "id": "778051dc-f09a-4822-83ca-369a5069f9e2",
   "metadata": {},
   "outputs": [],
   "source": [
    "# concatenate images\n",
    "img2 = cv2.imread(\"images/img2.jpg\")\n",
    "resize_img2 = cv2.resize(img2,(300,300))\n",
    "# used hstack for horizontal concatenate\n",
    "horizontal_stack = np.hstack((resize_img2,resize_img2))\n",
    "# vstack for vertical concatenate\n",
    "vertical_stack = np.vstack((horizontal_stack,horizontal_stack))\n",
    "cv2.imshow(\"Second image\",vertical_stack)\n",
    "cv2.waitKey(0)\n",
    "cv2.destroyAllWindows()"
   ]
  },
  {
   "cell_type": "code",
   "execution_count": 9,
   "id": "70639826-a5fe-4205-be51-427d8580da2e",
   "metadata": {},
   "outputs": [
    {
     "data": {
      "text/plain": [
       "['img1.jpg',\n",
       " 'img2.jpg',\n",
       " 'img3.jpg',\n",
       " 'img4.jpg',\n",
       " 'img5.jpg',\n",
       " 'img6.jpg',\n",
       " 'img7.jpg',\n",
       " 'img8.jpg']"
      ]
     },
     "execution_count": 9,
     "metadata": {},
     "output_type": "execute_result"
    }
   ],
   "source": [
    "list_name = os.listdir(r\"E:\\Computer vision\\images\")\n",
    "list_name"
   ]
  },
  {
   "cell_type": "code",
   "execution_count": 13,
   "id": "520cb8ce-9549-4bca-9169-9f4f63f801e8",
   "metadata": {},
   "outputs": [],
   "source": [
    "# slide show\n",
    "list_name = os.listdir(r\"E:\\Computer vision\\images\")\n",
    "for name in list_name:\n",
    "    path = \"E:\\\\Computer vision\\\\images\"\n",
    "    img_name = path + \"\\\\\" + name\n",
    "    img_multi = cv2.imread(img_name)\n",
    "    img_multi = cv2.resize(img_multi,(1000,680))\n",
    "    cv2.imshow(\"Slide_show\", img_multi)\n",
    "    cv2.waitKey(0)\n",
    "cv2.destroyAllWindows()"
   ]
  },
  {
   "cell_type": "code",
   "execution_count": null,
   "id": "5ab9fe4f-a91c-4b13-83b1-6bc14d894b32",
   "metadata": {},
   "outputs": [],
   "source": [
    "list_name = os.listdir(r\"E:\\Computer vision\\images\")\n",
    "for name in list_name:\n",
    "    path = \"E:\\\\Computer vision\\\\images\"\n",
    "    img_name = path + \"\\\\\" + name\n",
    "    img_multi = cv2.imread(img_name)\n",
    "    img_multi = cv2.resize(img_multi,(1000,680))\n",
    "    cv2.imshow(\"Slide_show\", img_multi)\n",
    "    cv2.waitKey(0)\n",
    "cv2.destroyAllWindows()"
   ]
  },
  {
   "cell_type": "code",
   "execution_count": null,
   "id": "6579f7f5-3cd8-498d-b4ff-dfa05279753e",
   "metadata": {},
   "outputs": [],
   "source": []
  }
 ],
 "metadata": {
  "kernelspec": {
   "display_name": "Python 3 (ipykernel)",
   "language": "python",
   "name": "python3"
  },
  "language_info": {
   "codemirror_mode": {
    "name": "ipython",
    "version": 3
   },
   "file_extension": ".py",
   "mimetype": "text/x-python",
   "name": "python",
   "nbconvert_exporter": "python",
   "pygments_lexer": "ipython3",
   "version": "3.12.1"
  },
  "widgets": {
   "application/vnd.jupyter.widget-state+json": {
    "state": {},
    "version_major": 2,
    "version_minor": 0
   }
  }
 },
 "nbformat": 4,
 "nbformat_minor": 5
}
