{
 "cells": [
  {
   "cell_type": "code",
   "execution_count": 6,
   "id": "9ade9835-3a94-40d7-9f2b-960b5fef0b25",
   "metadata": {},
   "outputs": [],
   "source": [
    "import cv2\n",
    "import numpy as np"
   ]
  },
  {
   "cell_type": "code",
   "execution_count": 12,
   "id": "ebf4f5ba-1cb4-4766-825f-a23c0c0a5ea6",
   "metadata": {},
   "outputs": [],
   "source": [
    "image = cv2.imread(\"images/img2.jpg\")\n",
    "\n",
    "image_resize = cv2.resize(image,(400,500))\n",
    "cv2.imshow(\"image\",image_resize)\n",
    "# edge detection using canny algorithm\n",
    "img_detect = cv2.Canny(image_resize,200,200)\n",
    "\n",
    "#both_img = np.hstack((image_resize, img_detect))\n",
    "\n",
    "cv2.imshow(\"image1\",img_detect)\n",
    "cv2.waitKey(0)\n",
    "cv2.destroyAllWindows()\n"
   ]
  },
  {
   "cell_type": "code",
   "execution_count": null,
   "id": "f3edc30a-3919-452d-aed2-1e9b3a16fd20",
   "metadata": {},
   "outputs": [],
   "source": []
  }
 ],
 "metadata": {
  "kernelspec": {
   "display_name": "Python 3 (ipykernel)",
   "language": "python",
   "name": "python3"
  },
  "language_info": {
   "codemirror_mode": {
    "name": "ipython",
    "version": 3
   },
   "file_extension": ".py",
   "mimetype": "text/x-python",
   "name": "python",
   "nbconvert_exporter": "python",
   "pygments_lexer": "ipython3",
   "version": "3.13.5"
  },
  "widgets": {
   "application/vnd.jupyter.widget-state+json": {
    "state": {},
    "version_major": 2,
    "version_minor": 0
   }
  }
 },
 "nbformat": 4,
 "nbformat_minor": 5
}
